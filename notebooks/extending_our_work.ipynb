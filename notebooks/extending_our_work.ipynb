{
 "cells": [
  {
   "cell_type": "markdown",
   "id": "cf0b2d89-2ca1-40eb-843a-9f3eddc4944c",
   "metadata": {},
   "source": [
    "# Extending our work"
   ]
  },
  {
   "cell_type": "code",
   "execution_count": 2,
   "id": "233c790b-935f-4b77-ad59-5b94ee92bc8a",
   "metadata": {},
   "outputs": [],
   "source": [
    "import genjax\n",
    "from genjax import vi"
   ]
  },
  {
   "cell_type": "markdown",
   "id": "a1ef6e48-df95-4ec0-b8d0-dd5d8548a8bc",
   "metadata": {},
   "source": [
    "## Implementing new samplers for ADEV"
   ]
  },
  {
   "cell_type": "markdown",
   "id": "9a30e37f-e3a1-430a-b382-79e0529ebdc4",
   "metadata": {},
   "source": [
    "## Implementing new models and guides"
   ]
  },
  {
   "cell_type": "markdown",
   "id": "59c8729d-044e-40a0-9511-8da7a028b98b",
   "metadata": {},
   "source": [
    "## Implementing new loss functions"
   ]
  }
 ],
 "metadata": {
  "kernelspec": {
   "display_name": "Python 3 (ipykernel)",
   "language": "python",
   "name": "python3"
  },
  "language_info": {
   "codemirror_mode": {
    "name": "ipython",
    "version": 3
   },
   "file_extension": ".py",
   "mimetype": "text/x-python",
   "name": "python",
   "nbconvert_exporter": "python",
   "pygments_lexer": "ipython3",
   "version": "3.11.4"
  }
 },
 "nbformat": 4,
 "nbformat_minor": 5
}
