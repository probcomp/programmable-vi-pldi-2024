{
 "cells": [
  {
   "cell_type": "markdown",
   "id": "dde2b2b0-a5de-49aa-a70c-24ba76664023",
   "metadata": {},
   "source": [
    "# Experiments"
   ]
  },
  {
   "cell_type": "code",
   "execution_count": 1,
   "id": "ce24d248-018d-4010-8c67-a0553c63c7fc",
   "metadata": {},
   "outputs": [],
   "source": [
    "from IPython.display import IFrame\n",
    "! mkdir -p figs\n",
    "! mkdir -p training_runs"
   ]
  },
  {
   "cell_type": "markdown",
   "id": "935fd30d-e6f6-4302-811d-6fae463f3a15",
   "metadata": {},
   "source": [
    "This file presents a Jupyter notebook interface to the experiments. Each section contains a specific experiment, notes about the output which you'll see in the notebook when you execute the cell, as well as a cell with a command to run the experiment."
   ]
  },
  {
   "cell_type": "markdown",
   "id": "9d21522e-17d6-4b30-abde-a3ca8baa85e7",
   "metadata": {},
   "source": [
    "## table_1_minibatch_gradient_benchmark"
   ]
  },
  {
   "cell_type": "markdown",
   "id": "860de524-9470-4b3c-b1fc-e8fdd650a944",
   "metadata": {},
   "source": [
    "(**CPU friendly**) This is okay to run on typical laptop CPU."
   ]
  },
  {
   "cell_type": "markdown",
   "id": "7aaf54e9-5a4f-49be-ad28-67501a74cc42",
   "metadata": {},
   "source": [
    "This experiment will print out the batch sizes for each trial, and the mean and standard deviation of timings for for each batch size."
   ]
  },
  {
   "cell_type": "code",
   "execution_count": null,
   "id": "0a82fac8-f6c1-454b-bbf5-2a9274612c1b",
   "metadata": {},
   "outputs": [
    {
     "name": "stderr",
     "output_type": "stream",
     "text": [
      "/home/femtomc/.cache/pypoetry/virtualenvs/programmable-vi-pldi-2024-wktT2A4B-py3.10/lib/python3.10/site-packages/tqdm/auto.py:21: TqdmWarning: IProgress not found. Please update jupyter and ipywidgets. See https://ipywidgets.readthedocs.io/en/stable/user_install.html\n",
      "  from .autonotebook import tqdm as notebook_tqdm\n"
     ]
    }
   ],
   "source": [
    "%run ./experiments/table_1_minibatch_gradient_benchmark/genjax_vae_overhead.py"
   ]
  },
  {
   "cell_type": "markdown",
   "id": "da9613ff-b1b1-4261-8763-eed87b0e6d1c",
   "metadata": {},
   "source": [
    "## table_2_benchmark_timings"
   ]
  },
  {
   "cell_type": "markdown",
   "id": "009da76a-5ed8-48d5-a44f-dab32733c194",
   "metadata": {},
   "source": [
    "(**GPU required**) This should be run on a GPU."
   ]
  },
  {
   "cell_type": "markdown",
   "id": "fb922f60-0a62-4a44-bb8d-0fa5f1b5ac18",
   "metadata": {},
   "source": [
    "For this experiment, `pytest` will run, and then display a precise timing table (with timing statistics) for each training experiment."
   ]
  },
  {
   "cell_type": "code",
   "execution_count": null,
   "id": "27525362-6d68-4d8a-841a-ec0c3011e756",
   "metadata": {},
   "outputs": [],
   "source": [
    "! just table_2"
   ]
  },
  {
   "cell_type": "markdown",
   "id": "5300a797-6ec3-4cf3-a380-ab4ea7d093a6",
   "metadata": {},
   "source": [
    "## table_4_objective_values"
   ]
  },
  {
   "cell_type": "markdown",
   "id": "52cc1495-7bbc-4f9a-bafe-03f4b7d3fa9d",
   "metadata": {},
   "source": [
    "(**CPU friendly**) This is okay to run on typical laptop CPU."
   ]
  },
  {
   "cell_type": "markdown",
   "id": "36d87926-e828-4cb1-89fd-422ec9b78b07",
   "metadata": {},
   "source": [
    "For each of the scripts and loss functions (ELBO, IWAE, HVI-ELBO, IWHVI, DIWHVI) -- the first number is the mean over training trials, and the second number is the standard deviation."
   ]
  },
  {
   "cell_type": "code",
   "execution_count": null,
   "id": "494672e0-7248-4582-b52f-b2aaf33b880a",
   "metadata": {},
   "outputs": [],
   "source": [
    "%run experiments/table_4_objective_values/genjax_cone.py\n",
    "%run experiments/table_4_objective_values/genjax_cone_marginal.py\n",
    "%run experiments/table_4_objective_values/numpyro_cone.py\n",
    "%run experiments/table_4_objective_values/pyro_cone.py"
   ]
  },
  {
   "cell_type": "markdown",
   "id": "d706927c-cf3b-41fa-bb6b-ec14d595a84f",
   "metadata": {},
   "source": [
    "## fig_2_noisy_cone"
   ]
  },
  {
   "cell_type": "markdown",
   "id": "a67bd18a-b74f-40b5-bfd7-dcf212677462",
   "metadata": {},
   "source": [
    "(**CPU friendly**) This is okay to run on typical laptop CPU."
   ]
  },
  {
   "cell_type": "markdown",
   "id": "45cd05ef-8320-437a-87cc-e17e194ac11f",
   "metadata": {},
   "source": [
    "The stream of numbers is the mean loss every 1000 iterations."
   ]
  },
  {
   "cell_type": "code",
   "execution_count": null,
   "id": "e5c9d8d7-1d27-4502-a79e-ecbeccbb64bf",
   "metadata": {},
   "outputs": [],
   "source": [
    "!python ./experiments/fig_2_noisy_cone/genjax_cone.py"
   ]
  },
  {
   "cell_type": "code",
   "execution_count": null,
   "id": "1f69a969-d70f-4b81-a4bc-8284b3525c7e",
   "metadata": {},
   "outputs": [],
   "source": [
    "!python ./experiments/fig_2_noisy_cone/genjax_cone_marginal.py"
   ]
  },
  {
   "cell_type": "markdown",
   "id": "94ef2c87-8954-4129-99f3-cfacf9750a82",
   "metadata": {},
   "source": [
    "The resultant PDFs can be shown using `IFrame` here."
   ]
  },
  {
   "cell_type": "code",
   "execution_count": null,
   "id": "47b8488d-7d25-40f6-9ae6-83a0a2f9c8db",
   "metadata": {},
   "outputs": [],
   "source": [
    "IFrame(\"./figs/fig_2_diwhvi_trained_expressive_variational_elbo_samples.pdf\", width=600, height=600)"
   ]
  },
  {
   "cell_type": "markdown",
   "id": "8710fea5-14ec-4faa-8f0d-37d0722831ac",
   "metadata": {},
   "source": [
    "## fig_7_air_estimator_evaluation"
   ]
  },
  {
   "cell_type": "markdown",
   "id": "21e490cb-7881-4ab7-b06a-af82ea4e94a4",
   "metadata": {},
   "source": [
    "(**GPU required**) This should be run on a GPU."
   ]
  },
  {
   "cell_type": "markdown",
   "id": "61ae1af7-c8ef-43a9-b3bf-aa2fac4205a0",
   "metadata": {},
   "source": [
    "The below cell runs the `genjax` experiments, and saves `.csv` files to the `./training_runs` directory."
   ]
  },
  {
   "cell_type": "code",
   "execution_count": null,
   "id": "92a2f107-d370-421d-a8be-fcfaaef254d4",
   "metadata": {},
   "outputs": [],
   "source": [
    "%run ./experiments/fig_7_air_estimator_evaluation/genjax_enum_air.py\n",
    "%run ./experiments/fig_7_air_estimator_evaluation/genjax_mvd_air.py\n",
    "%run ./experiments/fig_7_air_estimator_evaluation/genjax_reinforce_air.py\n",
    "%run ./experiments/fig_7_air_estimator_evaluation/genjax_hybrid_air.py\n",
    "%run ./experiments/fig_7_air_estimator_evaluation/genjax_rws_air.py"
   ]
  },
  {
   "cell_type": "markdown",
   "id": "4c78682f-d209-4fe2-825c-84eaf3c3ca51",
   "metadata": {},
   "source": [
    "The below cell runs the `pyro` experiments, and saves `.csv` files to the `./training_runs` directory."
   ]
  },
  {
   "cell_type": "code",
   "execution_count": null,
   "id": "5c7ac7be-bf97-4abc-a2bb-4138a7034e2b",
   "metadata": {},
   "outputs": [],
   "source": [
    "%run ./experiments/fig_7_air_estimator_evaluation/pyro_reinforce_air.py\n",
    "%run ./experiments/fig_7_air_estimator_evaluation/pyro_baselines_air.py"
   ]
  },
  {
   "cell_type": "markdown",
   "id": "3219c012-deda-41d2-aa93-60223a0f155d",
   "metadata": {},
   "source": [
    "**IMPORTANT**: `pyro` RWS takes quite a long time to run (because we have to use batch size 1). On our tests, a single epoch took ~46 minutes (and there are 6 epochs of training for this experiment).\n",
    "\n",
    "Choose if you'd like to generate the training run data for this experiment:"
   ]
  },
  {
   "cell_type": "code",
   "execution_count": null,
   "id": "17185c51-7ee7-437f-a3bc-315a1c1e5a21",
   "metadata": {},
   "outputs": [],
   "source": [
    "# %run ./python experiments/fig_7_air_estimator_evaluation/pyro_rws_air.py"
   ]
  },
  {
   "cell_type": "markdown",
   "id": "10ccef70-e245-4116-8b9c-3326fb090ebf",
   "metadata": {},
   "source": [
    "The below cell runs the analysis over all the training runs, and generates a figure (`./figs/fig_7_air_full.pdf`)."
   ]
  },
  {
   "cell_type": "code",
   "execution_count": null,
   "id": "e2fa8349-25a6-4c79-8337-e765bd69f412",
   "metadata": {},
   "outputs": [],
   "source": [
    "%run ./experiments/fig_7_air_estimator_evaluation/air_analysis.py"
   ]
  }
 ],
 "metadata": {
  "kernelspec": {
   "display_name": "Python 3 (ipykernel)",
   "language": "python",
   "name": "python3"
  },
  "language_info": {
   "codemirror_mode": {
    "name": "ipython",
    "version": 3
   },
   "file_extension": ".py",
   "mimetype": "text/x-python",
   "name": "python",
   "nbconvert_exporter": "python",
   "pygments_lexer": "ipython3",
   "version": "3.10.13"
  }
 },
 "nbformat": 4,
 "nbformat_minor": 5
}
