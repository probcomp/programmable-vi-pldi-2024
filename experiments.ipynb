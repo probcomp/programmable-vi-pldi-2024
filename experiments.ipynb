{
 "cells": [
  {
   "cell_type": "markdown",
   "id": "dde2b2b0-a5de-49aa-a70c-24ba76664023",
   "metadata": {},
   "source": [
    "# Experiments"
   ]
  },
  {
   "cell_type": "markdown",
   "id": "935fd30d-e6f6-4302-811d-6fae463f3a15",
   "metadata": {},
   "source": [
    "This file presents a Jupyter notebook interface to the experiments. Each section contains a specific experiment, notes about the output which you'll see in the notebook when you execute the cell, as well as a cell with a command to run the experiment."
   ]
  },
  {
   "cell_type": "markdown",
   "id": "9d21522e-17d6-4b30-abde-a3ca8baa85e7",
   "metadata": {},
   "source": [
    "## table_1_minibatch_gradient_benchmark"
   ]
  },
  {
   "cell_type": "markdown",
   "id": "860de524-9470-4b3c-b1fc-e8fdd650a944",
   "metadata": {},
   "source": [
    "(**CPU friendly**) This is okay to run on typical laptop CPU."
   ]
  },
  {
   "cell_type": "code",
   "execution_count": null,
   "id": "0a82fac8-f6c1-454b-bbf5-2a9274612c1b",
   "metadata": {},
   "outputs": [
    {
     "name": "stderr",
     "output_type": "stream",
     "text": [
      "/Users/mccoybecker/Library/Caches/pypoetry/virtualenvs/programmable-vi-pldi-2024-LYf2MEKs-py3.10/lib/python3.10/site-packages/tqdm/auto.py:21: TqdmWarning: IProgress not found. Please update jupyter and ipywidgets. See https://ipywidgets.readthedocs.io/en/stable/user_install.html\n",
      "  from .autonotebook import tqdm as notebook_tqdm\n"
     ]
    }
   ],
   "source": [
    "%run ../experiments/table_1_minibatch_gradient_benchmark/genjax_vae_overhead.py"
   ]
  },
  {
   "cell_type": "markdown",
   "id": "da9613ff-b1b1-4261-8763-eed87b0e6d1c",
   "metadata": {},
   "source": [
    "## table_2_benchmark_timings"
   ]
  },
  {
   "cell_type": "markdown",
   "id": "009da76a-5ed8-48d5-a44f-dab32733c194",
   "metadata": {},
   "source": [
    "(**GPU required**) This should be run on a GPU."
   ]
  },
  {
   "cell_type": "markdown",
   "id": "fb922f60-0a62-4a44-bb8d-0fa5f1b5ac18",
   "metadata": {},
   "source": [
    "For this experiment, `pytest` will run, and then display a precise timing table (with timing statistics) for each training experiment."
   ]
  },
  {
   "cell_type": "code",
   "execution_count": null,
   "id": "27525362-6d68-4d8a-841a-ec0c3011e756",
   "metadata": {},
   "outputs": [
    {
     "name": "stdout",
     "output_type": "stream",
     "text": [
      "\u001b[1mpoetry run pytest experiments/table_2_benchmark_timings --benchmark-disable-gc\u001b[0m\n",
      "\u001b[33mThe currently activated Python version 3.12.2 is not supported by the project (3.10.13).\n",
      "Trying to find and use a compatible version.\u001b[39m \n",
      "Using \u001b[36mpython3.10\u001b[39m (3.10.13)\n",
      "\u001b[1m============================= test session starts ==============================\u001b[0m\n",
      "platform darwin -- Python 3.10.13, pytest-8.0.2, pluggy-1.4.0\n",
      "benchmark: 4.0.0 (defaults: timer=time.perf_counter disable_gc=True min_rounds=5 min_time=0.000005 max_time=1.0 calibration_precision=10 warmup=False warmup_iterations=100000)\n",
      "rootdir: /Users/mccoybecker/research/programmable-vi-pldi-2024\n",
      "plugins: jaxtyping-0.2.28, anyio-4.3.0, typeguard-2.13.3, benchmark-4.0.0\n",
      "collected 5 items                                                              \u001b[0m\u001b[1m\n",
      "\n",
      "experiments/table_2_benchmark_timings/test_genjax_enum_air_benchmark.py "
     ]
    }
   ],
   "source": [
    "! just table_2"
   ]
  },
  {
   "cell_type": "markdown",
   "id": "5300a797-6ec3-4cf3-a380-ab4ea7d093a6",
   "metadata": {},
   "source": [
    "## table_4_objective_values"
   ]
  },
  {
   "cell_type": "markdown",
   "id": "36d87926-e828-4cb1-89fd-422ec9b78b07",
   "metadata": {},
   "source": [
    "For each of the scripts and loss functions (ELBO, IWAE, HVI-ELBO, IWHVI, DIWHVI) -- the first number is the mean over training trials, and the second number is the standard deviation."
   ]
  },
  {
   "cell_type": "code",
   "execution_count": 5,
   "id": "494672e0-7248-4582-b52f-b2aaf33b880a",
   "metadata": {},
   "outputs": [
    {
     "name": "stdout",
     "output_type": "stream",
     "text": [
      "ELBO:\n",
      "(Array(-8.0759735, dtype=float32), Array(0.8189323, dtype=float32))\n",
      "IWAE(K = 5):\n",
      "(Array(-7.6744304, dtype=float32), Array(2.6599298, dtype=float32))\n",
      "HVI-ELBO(N = 1):\n",
      "(Array(-9.751298, dtype=float32), Array(0.9588627, dtype=float32))\n",
      "HVIWAE(N = 5, K = 1):\n",
      "(Array(-8.182691, dtype=float32), Array(0.9135368, dtype=float32))\n",
      "HVIWAE(N = 5, K = 5):\n",
      "(Array(-7.2983704, dtype=float32), Array(1.648208, dtype=float32))\n"
     ]
    },
    {
     "name": "stderr",
     "output_type": "stream",
     "text": [
      "/Users/mccoybecker/Library/Caches/pypoetry/virtualenvs/programmable-vi-pldi-2024-LYf2MEKs-py3.10/lib/python3.10/site-packages/tqdm/auto.py:21: TqdmWarning: IProgress not found. Please update jupyter and ipywidgets. See https://ipywidgets.readthedocs.io/en/stable/user_install.html\n",
      "  from .autonotebook import tqdm as notebook_tqdm\n",
      "100%|█| 6000/6000 [00:00<00:00, 6672.05it/s, init loss: 450.7343, avg. \n"
     ]
    },
    {
     "name": "stdout",
     "output_type": "stream",
     "text": [
      "NumPyro TraceGraph ELBO:\n",
      "(Array(8.087665, dtype=float32), Array(0.11515263, dtype=float32))\n"
     ]
    },
    {
     "name": "stderr",
     "output_type": "stream",
     "text": [
      "100%|█| 6000/6000 [00:00<00:00, 8173.14it/s, init loss: 71.4061, avg. l\n"
     ]
    },
    {
     "name": "stdout",
     "output_type": "stream",
     "text": [
      "NumPyro RenyiELBO(k = 5):\n",
      "(Array(7.8700557, dtype=float32), Array(1.9371673, dtype=float32))\n"
     ]
    },
    {
     "name": "stderr",
     "output_type": "stream",
     "text": [
      "Guessed max_plate_nesting = 1\n",
      "Guessed max_plate_nesting = 1\n"
     ]
    },
    {
     "name": "stdout",
     "output_type": "stream",
     "text": [
      "Pyro ELBO:\n",
      "(tensor(8.0826), tensor(0.1097))\n",
      "Pyro IWAE(K = 5):\n",
      "(tensor(7.8315), tensor(2.4558))\n"
     ]
    }
   ],
   "source": [
    "%run experiments/table_4_objective_values/genjax_cone.py\n",
    "%run experiments/table_4_objective_values/genjax_cone_marginal.py\n",
    "%run experiments/table_4_objective_values/numpyro_cone.py\n",
    "%run experiments/table_4_objective_values/pyro_cone.py"
   ]
  },
  {
   "cell_type": "markdown",
   "id": "d706927c-cf3b-41fa-bb6b-ec14d595a84f",
   "metadata": {},
   "source": [
    "## fig_2_noisy_cone"
   ]
  },
  {
   "cell_type": "markdown",
   "id": "45cd05ef-8320-437a-87cc-e17e194ac11f",
   "metadata": {},
   "source": [
    "The stream of numbers is the mean loss every 1000 iterations."
   ]
  },
  {
   "cell_type": "code",
   "execution_count": 2,
   "id": "e5c9d8d7-1d27-4502-a79e-ecbeccbb64bf",
   "metadata": {},
   "outputs": [
    {
     "name": "stdout",
     "output_type": "stream",
     "text": [
      "-825.4227\n",
      "-7.9878664\n",
      "-8.03403\n",
      "-8.206105\n",
      "-7.992387\n",
      "-1265.4695\n",
      "-8.004253\n",
      "-8.012936\n",
      "-7.9295254\n",
      "-8.150597\n",
      "-3.8820481\n",
      "-7.961704\n",
      "-7.8041596\n",
      "-6.529461\n",
      "-7.2643843\n",
      "-26.630383\n",
      "-6.878557\n",
      "-6.7059927\n",
      "-7.016681\n",
      "-6.9601326\n"
     ]
    }
   ],
   "source": [
    "!python ./experiments/fig_2_noisy_cone/genjax_cone.py"
   ]
  },
  {
   "cell_type": "markdown",
   "id": "8710fea5-14ec-4faa-8f0d-37d0722831ac",
   "metadata": {},
   "source": [
    "## fig_7_air_estimator_evaluation"
   ]
  }
 ],
 "metadata": {
  "kernelspec": {
   "display_name": "Python 3 (ipykernel)",
   "language": "python",
   "name": "python3"
  },
  "language_info": {
   "codemirror_mode": {
    "name": "ipython",
    "version": 3
   },
   "file_extension": ".py",
   "mimetype": "text/x-python",
   "name": "python",
   "nbconvert_exporter": "python",
   "pygments_lexer": "ipython3",
   "version": "3.10.13"
  }
 },
 "nbformat": 4,
 "nbformat_minor": 5
}
