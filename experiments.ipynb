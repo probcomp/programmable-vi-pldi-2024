{
 "cells": [
  {
   "cell_type": "markdown",
   "id": "dde2b2b0-a5de-49aa-a70c-24ba76664023",
   "metadata": {},
   "source": [
    "# Experiments"
   ]
  },
  {
   "cell_type": "markdown",
   "id": "9d21522e-17d6-4b30-abde-a3ca8baa85e7",
   "metadata": {},
   "source": [
    "## table_1_minibatch_gradient_benchmark"
   ]
  },
  {
   "cell_type": "code",
   "execution_count": null,
   "id": "0a82fac8-f6c1-454b-bbf5-2a9274612c1b",
   "metadata": {},
   "outputs": [
    {
     "name": "stderr",
     "output_type": "stream",
     "text": [
      "/Users/mccoybecker/Library/Caches/pypoetry/virtualenvs/programmable-vi-pldi-2024-LYf2MEKs-py3.10/lib/python3.10/site-packages/tqdm/auto.py:21: TqdmWarning: IProgress not found. Please update jupyter and ipywidgets. See https://ipywidgets.readthedocs.io/en/stable/user_install.html\n",
      "  from .autonotebook import tqdm as notebook_tqdm\n"
     ]
    }
   ],
   "source": [
    "%run ../experiments/table_1_minibatch_gradient_benchmark/genjax_vae_overhead.py"
   ]
  },
  {
   "cell_type": "markdown",
   "id": "da9613ff-b1b1-4261-8763-eed87b0e6d1c",
   "metadata": {},
   "source": [
    "## table_2_benchmark_timings"
   ]
  },
  {
   "cell_type": "markdown",
   "id": "76b0e5d5-fb68-4142-837d-69676eda9ba1",
   "metadata": {},
   "source": [
    "This experiment requires `pytest` for running the benchmarks. Please execute `just table_2` or `poetry run pytest experiments/table_2_benchmark_timings --benchmark-disable-gc` in the terminal."
   ]
  },
  {
   "cell_type": "markdown",
   "id": "5300a797-6ec3-4cf3-a380-ab4ea7d093a6",
   "metadata": {},
   "source": [
    "## table_4_objective_values"
   ]
  },
  {
   "cell_type": "code",
   "execution_count": null,
   "id": "494672e0-7248-4582-b52f-b2aaf33b880a",
   "metadata": {},
   "outputs": [],
   "source": [
    "%run experiments/table_4_objective_values/genjax_cone.py\n",
    "%run experiments/table_4_objective_values/genjax_cone_marginal.py\n",
    "%run experiments/table_4_objective_values/numpyro_cone.py\n",
    "%run experiments/table_4_objective_values/pyro_cone.py"
   ]
  },
  {
   "cell_type": "markdown",
   "id": "d706927c-cf3b-41fa-bb6b-ec14d595a84f",
   "metadata": {},
   "source": [
    "## fig_2_noisy_cone"
   ]
  },
  {
   "cell_type": "code",
   "execution_count": 2,
   "id": "e5c9d8d7-1d27-4502-a79e-ecbeccbb64bf",
   "metadata": {},
   "outputs": [
    {
     "name": "stdout",
     "output_type": "stream",
     "text": [
      "-825.4227\n",
      "-7.9878664\n",
      "-8.03403\n",
      "-8.206105\n",
      "-7.992387\n",
      "-1265.4695\n",
      "-8.004253\n",
      "-8.012936\n",
      "-7.9295254\n",
      "-8.150597\n",
      "-3.8820481\n",
      "-7.961704\n",
      "-7.8041596\n",
      "-6.529461\n",
      "-7.2643843\n",
      "-26.630383\n",
      "-6.878557\n",
      "-6.7059927\n",
      "-7.016681\n",
      "-6.9601326\n"
     ]
    }
   ],
   "source": [
    "!python ./experiments/fig_2_noisy_cone/genjax_cone.py"
   ]
  },
  {
   "cell_type": "markdown",
   "id": "8710fea5-14ec-4faa-8f0d-37d0722831ac",
   "metadata": {},
   "source": [
    "## fig_7_air_estimator_evaluation"
   ]
  }
 ],
 "metadata": {
  "kernelspec": {
   "display_name": "Python 3 (ipykernel)",
   "language": "python",
   "name": "python3"
  },
  "language_info": {
   "codemirror_mode": {
    "name": "ipython",
    "version": 3
   },
   "file_extension": ".py",
   "mimetype": "text/x-python",
   "name": "python",
   "nbconvert_exporter": "python",
   "pygments_lexer": "ipython3",
   "version": "3.10.13"
  }
 },
 "nbformat": 4,
 "nbformat_minor": 5
}
